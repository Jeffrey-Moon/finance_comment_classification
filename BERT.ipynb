{
  "nbformat": 4,
  "nbformat_minor": 0,
  "metadata": {
    "colab": {
      "provenance": []
    },
    "kernelspec": {
      "name": "python3",
      "display_name": "Python 3"
    },
    "accelerator": "GPU",
    "gpuClass": "standard",
    "widgets": {
      "application/vnd.jupyter.widget-state+json": {
        "0f64b18c70484744b505049cfd8d2d8c": {
          "model_module": "@jupyter-widgets/controls",
          "model_name": "HBoxModel",
          "model_module_version": "1.5.0",
          "state": {
            "_dom_classes": [],
            "_model_module": "@jupyter-widgets/controls",
            "_model_module_version": "1.5.0",
            "_model_name": "HBoxModel",
            "_view_count": null,
            "_view_module": "@jupyter-widgets/controls",
            "_view_module_version": "1.5.0",
            "_view_name": "HBoxView",
            "box_style": "",
            "children": [
              "IPY_MODEL_2b4803da693f4b0ea3550575067cdb7c",
              "IPY_MODEL_7dc1260550734d03ac2dc543ba24b4df",
              "IPY_MODEL_44c09c5ecbef4850bff401232abe1f64"
            ],
            "layout": "IPY_MODEL_364ec45cd13e4a3196899965e32d959a"
          }
        },
        "2b4803da693f4b0ea3550575067cdb7c": {
          "model_module": "@jupyter-widgets/controls",
          "model_name": "HTMLModel",
          "model_module_version": "1.5.0",
          "state": {
            "_dom_classes": [],
            "_model_module": "@jupyter-widgets/controls",
            "_model_module_version": "1.5.0",
            "_model_name": "HTMLModel",
            "_view_count": null,
            "_view_module": "@jupyter-widgets/controls",
            "_view_module_version": "1.5.0",
            "_view_name": "HTMLView",
            "description": "",
            "description_tooltip": null,
            "layout": "IPY_MODEL_87cab0e8d0594b438bba2d8b729c7a35",
            "placeholder": "​",
            "style": "IPY_MODEL_c38e0073746b4ddd99ad3f06a4e0ad84",
            "value": "Downloading: 100%"
          }
        },
        "7dc1260550734d03ac2dc543ba24b4df": {
          "model_module": "@jupyter-widgets/controls",
          "model_name": "FloatProgressModel",
          "model_module_version": "1.5.0",
          "state": {
            "_dom_classes": [],
            "_model_module": "@jupyter-widgets/controls",
            "_model_module_version": "1.5.0",
            "_model_name": "FloatProgressModel",
            "_view_count": null,
            "_view_module": "@jupyter-widgets/controls",
            "_view_module_version": "1.5.0",
            "_view_name": "ProgressView",
            "bar_style": "success",
            "description": "",
            "description_tooltip": null,
            "layout": "IPY_MODEL_5e78327bee674229b229a3c9f8d5a176",
            "max": 440473133,
            "min": 0,
            "orientation": "horizontal",
            "style": "IPY_MODEL_fe9e0f35baff4a21a5c71be65f4b4220",
            "value": 440473133
          }
        },
        "44c09c5ecbef4850bff401232abe1f64": {
          "model_module": "@jupyter-widgets/controls",
          "model_name": "HTMLModel",
          "model_module_version": "1.5.0",
          "state": {
            "_dom_classes": [],
            "_model_module": "@jupyter-widgets/controls",
            "_model_module_version": "1.5.0",
            "_model_name": "HTMLModel",
            "_view_count": null,
            "_view_module": "@jupyter-widgets/controls",
            "_view_module_version": "1.5.0",
            "_view_name": "HTMLView",
            "description": "",
            "description_tooltip": null,
            "layout": "IPY_MODEL_130f03f99bc8447b8f312c5bac524de7",
            "placeholder": "​",
            "style": "IPY_MODEL_3af6b640580f49bdaf55d0d54706e6c6",
            "value": " 440M/440M [00:06&lt;00:00, 76.0MB/s]"
          }
        },
        "364ec45cd13e4a3196899965e32d959a": {
          "model_module": "@jupyter-widgets/base",
          "model_name": "LayoutModel",
          "model_module_version": "1.2.0",
          "state": {
            "_model_module": "@jupyter-widgets/base",
            "_model_module_version": "1.2.0",
            "_model_name": "LayoutModel",
            "_view_count": null,
            "_view_module": "@jupyter-widgets/base",
            "_view_module_version": "1.2.0",
            "_view_name": "LayoutView",
            "align_content": null,
            "align_items": null,
            "align_self": null,
            "border": null,
            "bottom": null,
            "display": null,
            "flex": null,
            "flex_flow": null,
            "grid_area": null,
            "grid_auto_columns": null,
            "grid_auto_flow": null,
            "grid_auto_rows": null,
            "grid_column": null,
            "grid_gap": null,
            "grid_row": null,
            "grid_template_areas": null,
            "grid_template_columns": null,
            "grid_template_rows": null,
            "height": null,
            "justify_content": null,
            "justify_items": null,
            "left": null,
            "margin": null,
            "max_height": null,
            "max_width": null,
            "min_height": null,
            "min_width": null,
            "object_fit": null,
            "object_position": null,
            "order": null,
            "overflow": null,
            "overflow_x": null,
            "overflow_y": null,
            "padding": null,
            "right": null,
            "top": null,
            "visibility": null,
            "width": null
          }
        },
        "87cab0e8d0594b438bba2d8b729c7a35": {
          "model_module": "@jupyter-widgets/base",
          "model_name": "LayoutModel",
          "model_module_version": "1.2.0",
          "state": {
            "_model_module": "@jupyter-widgets/base",
            "_model_module_version": "1.2.0",
            "_model_name": "LayoutModel",
            "_view_count": null,
            "_view_module": "@jupyter-widgets/base",
            "_view_module_version": "1.2.0",
            "_view_name": "LayoutView",
            "align_content": null,
            "align_items": null,
            "align_self": null,
            "border": null,
            "bottom": null,
            "display": null,
            "flex": null,
            "flex_flow": null,
            "grid_area": null,
            "grid_auto_columns": null,
            "grid_auto_flow": null,
            "grid_auto_rows": null,
            "grid_column": null,
            "grid_gap": null,
            "grid_row": null,
            "grid_template_areas": null,
            "grid_template_columns": null,
            "grid_template_rows": null,
            "height": null,
            "justify_content": null,
            "justify_items": null,
            "left": null,
            "margin": null,
            "max_height": null,
            "max_width": null,
            "min_height": null,
            "min_width": null,
            "object_fit": null,
            "object_position": null,
            "order": null,
            "overflow": null,
            "overflow_x": null,
            "overflow_y": null,
            "padding": null,
            "right": null,
            "top": null,
            "visibility": null,
            "width": null
          }
        },
        "c38e0073746b4ddd99ad3f06a4e0ad84": {
          "model_module": "@jupyter-widgets/controls",
          "model_name": "DescriptionStyleModel",
          "model_module_version": "1.5.0",
          "state": {
            "_model_module": "@jupyter-widgets/controls",
            "_model_module_version": "1.5.0",
            "_model_name": "DescriptionStyleModel",
            "_view_count": null,
            "_view_module": "@jupyter-widgets/base",
            "_view_module_version": "1.2.0",
            "_view_name": "StyleView",
            "description_width": ""
          }
        },
        "5e78327bee674229b229a3c9f8d5a176": {
          "model_module": "@jupyter-widgets/base",
          "model_name": "LayoutModel",
          "model_module_version": "1.2.0",
          "state": {
            "_model_module": "@jupyter-widgets/base",
            "_model_module_version": "1.2.0",
            "_model_name": "LayoutModel",
            "_view_count": null,
            "_view_module": "@jupyter-widgets/base",
            "_view_module_version": "1.2.0",
            "_view_name": "LayoutView",
            "align_content": null,
            "align_items": null,
            "align_self": null,
            "border": null,
            "bottom": null,
            "display": null,
            "flex": null,
            "flex_flow": null,
            "grid_area": null,
            "grid_auto_columns": null,
            "grid_auto_flow": null,
            "grid_auto_rows": null,
            "grid_column": null,
            "grid_gap": null,
            "grid_row": null,
            "grid_template_areas": null,
            "grid_template_columns": null,
            "grid_template_rows": null,
            "height": null,
            "justify_content": null,
            "justify_items": null,
            "left": null,
            "margin": null,
            "max_height": null,
            "max_width": null,
            "min_height": null,
            "min_width": null,
            "object_fit": null,
            "object_position": null,
            "order": null,
            "overflow": null,
            "overflow_x": null,
            "overflow_y": null,
            "padding": null,
            "right": null,
            "top": null,
            "visibility": null,
            "width": null
          }
        },
        "fe9e0f35baff4a21a5c71be65f4b4220": {
          "model_module": "@jupyter-widgets/controls",
          "model_name": "ProgressStyleModel",
          "model_module_version": "1.5.0",
          "state": {
            "_model_module": "@jupyter-widgets/controls",
            "_model_module_version": "1.5.0",
            "_model_name": "ProgressStyleModel",
            "_view_count": null,
            "_view_module": "@jupyter-widgets/base",
            "_view_module_version": "1.2.0",
            "_view_name": "StyleView",
            "bar_color": null,
            "description_width": ""
          }
        },
        "130f03f99bc8447b8f312c5bac524de7": {
          "model_module": "@jupyter-widgets/base",
          "model_name": "LayoutModel",
          "model_module_version": "1.2.0",
          "state": {
            "_model_module": "@jupyter-widgets/base",
            "_model_module_version": "1.2.0",
            "_model_name": "LayoutModel",
            "_view_count": null,
            "_view_module": "@jupyter-widgets/base",
            "_view_module_version": "1.2.0",
            "_view_name": "LayoutView",
            "align_content": null,
            "align_items": null,
            "align_self": null,
            "border": null,
            "bottom": null,
            "display": null,
            "flex": null,
            "flex_flow": null,
            "grid_area": null,
            "grid_auto_columns": null,
            "grid_auto_flow": null,
            "grid_auto_rows": null,
            "grid_column": null,
            "grid_gap": null,
            "grid_row": null,
            "grid_template_areas": null,
            "grid_template_columns": null,
            "grid_template_rows": null,
            "height": null,
            "justify_content": null,
            "justify_items": null,
            "left": null,
            "margin": null,
            "max_height": null,
            "max_width": null,
            "min_height": null,
            "min_width": null,
            "object_fit": null,
            "object_position": null,
            "order": null,
            "overflow": null,
            "overflow_x": null,
            "overflow_y": null,
            "padding": null,
            "right": null,
            "top": null,
            "visibility": null,
            "width": null
          }
        },
        "3af6b640580f49bdaf55d0d54706e6c6": {
          "model_module": "@jupyter-widgets/controls",
          "model_name": "DescriptionStyleModel",
          "model_module_version": "1.5.0",
          "state": {
            "_model_module": "@jupyter-widgets/controls",
            "_model_module_version": "1.5.0",
            "_model_name": "DescriptionStyleModel",
            "_view_count": null,
            "_view_module": "@jupyter-widgets/base",
            "_view_module_version": "1.2.0",
            "_view_name": "StyleView",
            "description_width": ""
          }
        }
      }
    }
  },
  "cells": [
    {
      "cell_type": "markdown",
      "metadata": {
        "id": "iVuaBWBN6OBW"
      },
      "source": [
        "# **Text Classification using BERT**\n"
      ]
    },
    {
      "cell_type": "markdown",
      "metadata": {
        "id": "asjEyQW56LAy"
      },
      "source": [
        "<img src=\"https://www.codemotion.com/magazine/wp-content/uploads/2020/05/bert-google.png\" width=800>\n",
        "\n",
        "BERT stands for Bidirectional Encoder Representations from Transformers. It is an advanced, pre-trained NLP model that understands language by looking at the context of each word. Because BERT has already been created and pre-trained for us (by Google), it can be fine-tuned for our finance task by adding just one additional output layer—just like that, we can create a state-of-the-art model.\n",
        "\n"
      ]
    },
    {
      "cell_type": "markdown",
      "metadata": {
        "id": "54TzPSQ8LETS"
      },
      "source": [
        "## Goals\n",
        "In this notebook we will be:\n",
        "\n",
        "*   Learning and understanding the BERT ML technique and its signficance in NLP\n",
        "*   Preprocessing data for BERT and training our model\n",
        "*   Running and finetuning our BERT model with the *PyTorch huggingface* transformer library"
      ]
    },
    {
      "cell_type": "markdown",
      "metadata": {
        "id": "BoJj6q6UKona"
      },
      "source": [
        "<font color=\"#de3023\"><h5><b>**NOTE:** We'll need to use a GPU for this notebook. Go to \"Runtime\" -> \"Change runtime type\" -> and set Hardware Accelerator to \"GPU.\"</b></h5></font>"
      ]
    },
    {
      "cell_type": "markdown",
      "metadata": {
        "id": "jwYCqM646X2u"
      },
      "source": [
        "# **Milestone 1: Learning and understanding the BERT ML technique and its significance in NLP.**"
      ]
    },
    {
      "cell_type": "code",
      "metadata": {
        "id": "vbeROSdhx_nI",
        "colab": {
          "base_uri": "https://localhost:8080/"
        },
        "outputId": "e4d11fb7-6f0c-4ceb-9d22-f6dc0c93e28f"
      },
      "source": [
        "#@title Run this to download data and prepare our environment! { display-mode: \"form\" }\n",
        "!pip install transformers\n",
        "import os\n",
        "import gdown\n",
        "import torch\n",
        "import numpy as np\n",
        "import transformers\n",
        "import pandas as pd\n",
        "import matplotlib.pyplot as plt\n",
        "from sklearn.model_selection import train_test_split\n",
        "from keras.utils import pad_sequences\n",
        "\n",
        "from transformers import BertTokenizer\n",
        "from transformers import get_linear_schedule_with_warmup\n",
        "from transformers import BertForSequenceClassification, AdamW, BertConfig\n",
        "from torch.utils.data import TensorDataset, DataLoader, RandomSampler, SequentialSampler\n",
        "\n",
        "%matplotlib inline\n",
        "\n",
        "# gdown.download('https://drive.google.com/uc?id=1q4U2gVY9tWEPdT6W-pdQpKmo152QqWLE', 'finance_train.csv', True)\n",
        "# gdown.download('https://drive.google.com/uc?id=1nIBqAsItwVEGVayYTgvybz7HeK0asom0', 'finance_test.csv', True)\n",
        "\n",
        "!wget 'https://storage.googleapis.com/inspirit-ai-data-bucket-1/Data/AI%20Scholars/Sessions%206%20-%2010%20(Projects)/Project%20-%20NLP%2BFinance/finance_test.csv'\n",
        "!wget 'https://storage.googleapis.com/inspirit-ai-data-bucket-1/Data/AI%20Scholars/Sessions%206%20-%2010%20(Projects)/Project%20-%20NLP%2BFinance/finance_train.csv'\n",
        "\n",
        "def get_finance_train():\n",
        "  df_train = pd.read_csv(\"finance_train.csv\")\n",
        "  return df_train\n",
        "def get_finance_test():\n",
        "  df_test = pd.read_csv(\"finance_test.csv\")\n",
        "  return df_test\n",
        "\n",
        "def flat_accuracy(preds, labels):\n",
        "    pred_flat = np.argmax(preds, axis=1).flatten()\n",
        "    labels_flat = labels.flatten()\n",
        "    return np.sum(pred_flat == labels_flat) / len(labels_flat)\n",
        "\n",
        "print (\"Train and Test Files Loaded as train.csv and test.csv\")\n",
        "\n",
        "LABEL_MAP = {0 : \"negative\", 1 : \"neutral\", 2 : \"positive\"}\n",
        "NONE = 4 * [None]\n",
        "RND_SEED=2020\n",
        "\n",
        "\n"
      ],
      "execution_count": null,
      "outputs": [
        {
          "output_type": "stream",
          "name": "stdout",
          "text": [
            "Looking in indexes: https://pypi.org/simple, https://us-python.pkg.dev/colab-wheels/public/simple/\n",
            "Collecting transformers\n",
            "  Downloading transformers-4.25.1-py3-none-any.whl (5.8 MB)\n",
            "\u001b[K     |████████████████████████████████| 5.8 MB 30.8 MB/s \n",
            "\u001b[?25hCollecting huggingface-hub<1.0,>=0.10.0\n",
            "  Downloading huggingface_hub-0.11.1-py3-none-any.whl (182 kB)\n",
            "\u001b[K     |████████████████████████████████| 182 kB 67.8 MB/s \n",
            "\u001b[?25hRequirement already satisfied: tqdm>=4.27 in /usr/local/lib/python3.8/dist-packages (from transformers) (4.64.1)\n",
            "Requirement already satisfied: pyyaml>=5.1 in /usr/local/lib/python3.8/dist-packages (from transformers) (6.0)\n",
            "Requirement already satisfied: requests in /usr/local/lib/python3.8/dist-packages (from transformers) (2.23.0)\n",
            "Collecting tokenizers!=0.11.3,<0.14,>=0.11.1\n",
            "  Downloading tokenizers-0.13.2-cp38-cp38-manylinux_2_17_x86_64.manylinux2014_x86_64.whl (7.6 MB)\n",
            "\u001b[K     |████████████████████████████████| 7.6 MB 70.1 MB/s \n",
            "\u001b[?25hRequirement already satisfied: regex!=2019.12.17 in /usr/local/lib/python3.8/dist-packages (from transformers) (2022.6.2)\n",
            "Requirement already satisfied: filelock in /usr/local/lib/python3.8/dist-packages (from transformers) (3.8.2)\n",
            "Requirement already satisfied: packaging>=20.0 in /usr/local/lib/python3.8/dist-packages (from transformers) (21.3)\n",
            "Requirement already satisfied: numpy>=1.17 in /usr/local/lib/python3.8/dist-packages (from transformers) (1.21.6)\n",
            "Requirement already satisfied: typing-extensions>=3.7.4.3 in /usr/local/lib/python3.8/dist-packages (from huggingface-hub<1.0,>=0.10.0->transformers) (4.4.0)\n",
            "Requirement already satisfied: pyparsing!=3.0.5,>=2.0.2 in /usr/local/lib/python3.8/dist-packages (from packaging>=20.0->transformers) (3.0.9)\n",
            "Requirement already satisfied: chardet<4,>=3.0.2 in /usr/local/lib/python3.8/dist-packages (from requests->transformers) (3.0.4)\n",
            "Requirement already satisfied: idna<3,>=2.5 in /usr/local/lib/python3.8/dist-packages (from requests->transformers) (2.10)\n",
            "Requirement already satisfied: urllib3!=1.25.0,!=1.25.1,<1.26,>=1.21.1 in /usr/local/lib/python3.8/dist-packages (from requests->transformers) (1.24.3)\n",
            "Requirement already satisfied: certifi>=2017.4.17 in /usr/local/lib/python3.8/dist-packages (from requests->transformers) (2022.12.7)\n",
            "Installing collected packages: tokenizers, huggingface-hub, transformers\n",
            "Successfully installed huggingface-hub-0.11.1 tokenizers-0.13.2 transformers-4.25.1\n",
            "--2022-12-28 21:17:07--  https://storage.googleapis.com/inspirit-ai-data-bucket-1/Data/AI%20Scholars/Sessions%206%20-%2010%20(Projects)/Project%20-%20NLP%2BFinance/finance_test.csv\n",
            "Resolving storage.googleapis.com (storage.googleapis.com)... 74.125.68.128, 74.125.24.128, 142.250.4.128, ...\n",
            "Connecting to storage.googleapis.com (storage.googleapis.com)|74.125.68.128|:443... connected.\n",
            "HTTP request sent, awaiting response... 200 OK\n",
            "Length: 29264 (29K) [application/vnd.ms-excel]\n",
            "Saving to: ‘finance_test.csv’\n",
            "\n",
            "finance_test.csv    100%[===================>]  28.58K  --.-KB/s    in 0s      \n",
            "\n",
            "2022-12-28 21:17:08 (96.0 MB/s) - ‘finance_test.csv’ saved [29264/29264]\n",
            "\n",
            "--2022-12-28 21:17:08--  https://storage.googleapis.com/inspirit-ai-data-bucket-1/Data/AI%20Scholars/Sessions%206%20-%2010%20(Projects)/Project%20-%20NLP%2BFinance/finance_train.csv\n",
            "Resolving storage.googleapis.com (storage.googleapis.com)... 74.125.68.128, 74.125.24.128, 142.250.4.128, ...\n",
            "Connecting to storage.googleapis.com (storage.googleapis.com)|74.125.68.128|:443... connected.\n",
            "HTTP request sent, awaiting response... 200 OK\n",
            "Length: 258593 (253K) [application/vnd.ms-excel]\n",
            "Saving to: ‘finance_train.csv’\n",
            "\n",
            "finance_train.csv   100%[===================>] 252.53K  --.-KB/s    in 0.003s  \n",
            "\n",
            "2022-12-28 21:17:09 (98.5 MB/s) - ‘finance_train.csv’ saved [258593/258593]\n",
            "\n",
            "Train and Test Files Loaded as train.csv and test.csv\n"
          ]
        }
      ]
    },
    {
      "cell_type": "markdown",
      "metadata": {
        "id": "ZehuM8rNNdef"
      },
      "source": [
        "## Let's Talk about Bert!\n",
        "\n",
        "As described above, BERT is a pretrained NLP model that is more contextually aware than anything we've seen before. Specifically, it is an NLP model designed to pre-train deep bidirectional representations from unlabeled text by jointly conditioning on what precedes and succeeds a word. Therefore, it is better able to capture a word within the context of a sentence. Some other important highlights about BERT are signified below:\n",
        "\n",
        "1. **Quick Training:**  BERT comes pre-trained, so we can train it on our data very quickly.\n",
        "\n",
        "2. **Less Data:** Because BERT is pre-trained, we don't need as much training data.\n",
        "\n",
        "3. **Great Results:** BERT has proven to be an excellent NLP model.\n",
        "\n",
        "4. **Multi-Lingual Capabilities:** If we want to apply our network to foreign markets, BERT works on more than just English!"
      ]
    },
    {
      "cell_type": "markdown",
      "metadata": {
        "id": "S8dkQmKyO2uU"
      },
      "source": [
        "Please take 5 minutes to watch this informative video on the BERT model and its high-level significance and architecture."
      ]
    },
    {
      "cell_type": "code",
      "metadata": {
        "id": "cPLzjwBvNIli",
        "colab": {
          "base_uri": "https://localhost:8080/",
          "height": 536
        },
        "outputId": "ee805012-6670-4a29-b278-aa937ca02afc"
      },
      "source": [
        "#@title BERT Summary Video\n",
        "from IPython.display import HTML\n",
        "\n",
        "HTML('<iframe width=\"854\" height=\"480\" src=\"https://www.youtube.com/embed/zMxvS7hD-Ug\" frameborder=\"0\" allow=\"accelerometer; autoplay; encrypted-media; gyroscope; picture-in-picture\" allowfullscreen></iframe>')"
      ],
      "execution_count": null,
      "outputs": [
        {
          "output_type": "stream",
          "name": "stderr",
          "text": [
            "/usr/local/lib/python3.8/dist-packages/IPython/core/display.py:701: UserWarning: Consider using IPython.display.IFrame instead\n",
            "  warnings.warn(\"Consider using IPython.display.IFrame instead\")\n"
          ]
        },
        {
          "output_type": "execute_result",
          "data": {
            "text/plain": [
              "<IPython.core.display.HTML object>"
            ],
            "text/html": [
              "<iframe width=\"854\" height=\"480\" src=\"https://www.youtube.com/embed/zMxvS7hD-Ug\" frameborder=\"0\" allow=\"accelerometer; autoplay; encrypted-media; gyroscope; picture-in-picture\" allowfullscreen></iframe>"
            ]
          },
          "metadata": {},
          "execution_count": 2
        }
      ]
    },
    {
      "cell_type": "code",
      "metadata": {
        "id": "uSDKzmXLOO_8",
        "cellView": "form"
      },
      "source": [
        "#@title Exercise. What are some interesting NLP concepts or unique aspects of the BERT model you learned in the video?\n",
        "_1_ = 'BERT stacks the ecoder inputs' #@param {type:\"string\"}\n",
        "_2_ = 'BERT is a language based transformer model' #@param {type:\"string\"}\n",
        "_3_ = 'Pre-training model' #@param {type:\"string\"}"
      ],
      "execution_count": null,
      "outputs": []
    },
    {
      "cell_type": "markdown",
      "metadata": {
        "id": "UU05R8r5ObJm"
      },
      "source": [
        "#### **Discussion Exercise: Advantages and disadvantages of BERT**\n",
        "\n",
        "What do you think are some possible benefits and weaknesses to using a pre-trained model such as BERT?"
      ]
    },
    {
      "cell_type": "markdown",
      "metadata": {
        "id": "2cFNUTzRPCXQ"
      },
      "source": [
        "# **Milestone 2: Preprocessing data for BERT and training our model.**\n",
        "\n"
      ]
    },
    {
      "cell_type": "markdown",
      "metadata": {
        "id": "ACBeiS6GPPYk"
      },
      "source": [
        "## **Reading in the Datasets**\n",
        "\n",
        "Just as in previous notebooks, use the `get_finance_train()` and `get_finance_test()` methods to get the train and test datasets and save them in variables named `df_train` and `df_test` respectively."
      ]
    },
    {
      "cell_type": "code",
      "metadata": {
        "id": "hwAbeEoKPit1"
      },
      "source": [
        "df_train = get_finance_train() ### YOUR CODE HERE\n",
        "df_test = get_finance_test() ### YOUR CODE HERE"
      ],
      "execution_count": null,
      "outputs": []
    },
    {
      "cell_type": "markdown",
      "metadata": {
        "id": "7W-poJDNSRVL"
      },
      "source": [
        "For simplicity, save sentences and labels columns of `df_train` in variables named `sentences` and `labels` respectively.\n",
        "\n",
        "\n",
        "**Note: To access a column from a dataframe based on the column name, you can use the code structure: `column = df_train[\"column_name\"].values`. Replace `column_name` with your desired column to access it.**"
      ]
    },
    {
      "cell_type": "code",
      "metadata": {
        "id": "1oQiI3g6AJ-d",
        "colab": {
          "base_uri": "https://localhost:8080/"
        },
        "outputId": "47334e1e-fc8f-45c5-bf46-c60643fde28d"
      },
      "source": [
        "sentences = df_train[\"Sentence\"].values ### YOUR CODE HERE\n",
        "labels = df_train[\"Label\"].values ### YOUR CODE HERE\n",
        "print(sentences)\n",
        "print(labels)"
      ],
      "execution_count": null,
      "outputs": [
        {
          "output_type": "stream",
          "name": "stdout",
          "text": [
            "[\"Autotank Group is part of Aspo 's Systems Division .\"\n",
            " 'The contract includes design , construction , delivery of equipment , installation and commissioning .'\n",
            " 'Rapala said it estimates it will make savings of 1-2 mln eur a year by centralising its French operations at one site .'\n",
            " ...\n",
            " 'Cash flow from operations in January-December 2008 was a negative EUR 18.1 mn compared to EUR 39.0 mn in the corresponding period in 2007 .'\n",
            " 'In the first quarter of 2010 , the mark-to-market result was a pretax profit of EUR 133 million versus a loss of EUR 32 million in the same period last year .'\n",
            " 'Currently the quarterly applied surcharges differ significantly from the actual market prices .']\n",
            "[1 1 2 ... 0 2 1]\n"
          ]
        }
      ]
    },
    {
      "cell_type": "markdown",
      "metadata": {
        "id": "-NXZ7Fw1AmOr"
      },
      "source": [
        "## **Tokenization & Input Formatting**"
      ]
    },
    {
      "cell_type": "markdown",
      "metadata": {
        "id": "8lxvV54ZAuN4"
      },
      "source": [
        "Just as before, we need to break down our input sentences to smaller tokens. BERT expects input sentences to be broken down into individual tokens and the input data needs to follow BERT's pre-defined format."
      ]
    },
    {
      "cell_type": "markdown",
      "metadata": {
        "id": "FGEtAsHJBfBo"
      },
      "source": [
        "### BERT Tokenizer ###\n",
        "\n",
        "The BERT Tokenizer is a two-step process in processing our data. First, we will initialize the tokenizer using our dataset. Thereafter, we will convert the original sentences to tokenized sentences."
      ]
    },
    {
      "cell_type": "markdown",
      "metadata": {
        "id": "_-aDHt-_VauL"
      },
      "source": [
        "#### Step 1 : Create the Tokenizer ####"
      ]
    },
    {
      "cell_type": "markdown",
      "metadata": {
        "id": "Axi-xi5ZBqjm"
      },
      "source": [
        "#### **Coding Exercise: Tokenize with Bert**\n",
        "\n",
        "When using BERT, our text needs to be split into tokens and those tokens need to be mapped to an index using BERT's vocabulary. We will use the `BertTokenizer` module from the transformer library to tokenize our data. To do so, call the function `BertTokenizer.from_pretrained(\"bert-base-uncased\", do_lower_case = True)` and save the returned value in a variable named `tokenizer`."
      ]
    },
    {
      "cell_type": "code",
      "metadata": {
        "id": "8vOrBr3cRzHs"
      },
      "source": [
        "tokenizer = BertTokenizer.from_pretrained(\"bert-base-uncased\", do_lower_case = True) ### YOUR CODE HERE"
      ],
      "execution_count": null,
      "outputs": []
    },
    {
      "cell_type": "markdown",
      "metadata": {
        "id": "roUE0jNwTUjt"
      },
      "source": [
        "#### **Coding Exercise: Vocabulary Size**\n",
        "\n",
        "The BERT Tokenizer object you created keeps track of the size of the vocabulary we are dealing with in this dataset. Find and print the number of unique tokens in the BERT model by calling `tokenizer.vocab_size`."
      ]
    },
    {
      "cell_type": "code",
      "metadata": {
        "id": "RQVK-3jNTmtj",
        "colab": {
          "base_uri": "https://localhost:8080/"
        },
        "outputId": "2984ab18-dc42-4a7f-b20d-765463a25e01"
      },
      "source": [
        "### YOUR CODE HERE\n",
        "print(tokenizer.vocab_size)\n",
        "### END CODE"
      ],
      "execution_count": null,
      "outputs": [
        {
          "output_type": "stream",
          "name": "stdout",
          "text": [
            "30522\n"
          ]
        }
      ]
    },
    {
      "cell_type": "markdown",
      "metadata": {
        "id": "OsCBSEwTUFDF"
      },
      "source": [
        "#### **Coding Exercise: Applying the tokenizer**\n",
        "\n",
        "Apply the tokenizer to the first element in your training dataset: `sentences[0]`. To do so, call the `tokenizer.tokenize(SENTENCE)` function while passing in your sentence in place of `SENTENCE` as shown. Print the original sentence relative to the tokenized sentence."
      ]
    },
    {
      "cell_type": "code",
      "metadata": {
        "id": "NVoeUVNcUjNu",
        "colab": {
          "base_uri": "https://localhost:8080/"
        },
        "outputId": "0147857f-def3-4ed1-8326-493c9cdda965"
      },
      "source": [
        "### YOUR CODE HERE\n",
        "print(sentences[0])\n",
        "tokenized_sentence = tokenizer.tokenize(sentences[0])\n",
        "print(tokenized_sentence)\n",
        "### END CODE"
      ],
      "execution_count": null,
      "outputs": [
        {
          "output_type": "stream",
          "name": "stdout",
          "text": [
            "Autotank Group is part of Aspo 's Systems Division .\n",
            "['auto', '##tan', '##k', 'group', 'is', 'part', 'of', 'as', '##po', \"'\", 's', 'systems', 'division', '.']\n"
          ]
        }
      ]
    },
    {
      "cell_type": "markdown",
      "metadata": {
        "id": "LzsYubUFU_uJ"
      },
      "source": [
        "#### **Discussion Exercise: BERT Tokens**\n",
        "\n",
        "What do you think about the BERT generated tokens? What do think is the significance of some of the stranger tokens and the # characters?"
      ]
    },
    {
      "cell_type": "markdown",
      "metadata": {
        "id": "dOk0VvHAEFr9"
      },
      "source": [
        "#### Step 2 : Map the tokens to our index ####"
      ]
    },
    {
      "cell_type": "markdown",
      "metadata": {
        "id": "z0l2OHikEX8a"
      },
      "source": [
        "Each token has a corresponding index in the vocabulary. To keep track of the vector representations more concisely, we will convert each of the tokenized lists into a list of indices.\n",
        "\n"
      ]
    },
    {
      "cell_type": "markdown",
      "metadata": {
        "id": "pyrDHfCjh9by"
      },
      "source": [
        "#### **Coding Exercise: Map tokens to indices**\n",
        "\n",
        "Map the tokens to indices on the first element in your training dataset: `sentences[0]`. To do so,  use the `convert_tokens_to_ids()` function of the `tokenizer` to encode our word tokens into numerical values. Call the command `tokenizer.convert_tokens_to_ids(TOKENIZED_SENTENCE)` passing in the tokenized version of `sentences[0]` that you created above for `TOKENIZED_SENTENCE`. Print the tokenized sentence relative to the mapped indices sentence."
      ]
    },
    {
      "cell_type": "code",
      "metadata": {
        "id": "__Fm8BD3EWHJ",
        "colab": {
          "base_uri": "https://localhost:8080/"
        },
        "outputId": "b2f9f369-5448-4a24-d50a-e54a6b9337c3"
      },
      "source": [
        "### YOUR CODE HERE\n",
        "print(tokenizer.convert_tokens_to_ids(tokenized_sentence))\n",
        "### END CODE"
      ],
      "execution_count": null,
      "outputs": [
        {
          "output_type": "stream",
          "name": "stdout",
          "text": [
            "[8285, 5794, 2243, 2177, 2003, 2112, 1997, 2004, 6873, 1005, 1055, 3001, 2407, 1012]\n"
          ]
        }
      ]
    },
    {
      "cell_type": "markdown",
      "metadata": {
        "id": "IMu6yub9CaSh"
      },
      "source": [
        "### Text Formatting ###\n",
        "\n",
        "When using BERT, we need to modify our input to match the BERT Format. To do so, we will apply these three steps on the input sentences:\n",
        "\n",
        "1. Add special tokens to the start (`[CLS]`) and end (`[SEP]`) of each sentence.\n",
        "2. Pad & truncate all sentences to a single constant length.\n",
        "3. Explicitly differentiate real tokens from padding tokens with the \"attention mask\".\n",
        "\n",
        "Take note of the visualization on **Sentence A** below that elucidates these steps. However, let us understand each of these steps in more detail before proceeding to apply them to our dataset."
      ]
    },
    {
      "cell_type": "markdown",
      "metadata": {
        "id": "YMUEQzjxnLNK"
      },
      "source": [
        "![picture](https://drive.google.com/uc?id=1sN5pvRjF1PnV72AXu9d8DLVDllAYOBzk)"
      ]
    },
    {
      "cell_type": "markdown",
      "metadata": {
        "id": "m0gZApxsGu-e"
      },
      "source": [
        "#### **Special Tokens** ####"
      ]
    },
    {
      "cell_type": "markdown",
      "metadata": {
        "id": "2j6ihrw7G6bf"
      },
      "source": [
        "These are two tokens we add to the start and end respectively:\n",
        "\n",
        "\n",
        "\n",
        "*   `[CLS]` - stands for \"classification,\" and is used to identify new sentences.\n",
        "*   `[SEP]` - stands for \"separator,\" and identifies if a pair of sentences are consecutive in a corpus or not (used for next sentence prediction).\n",
        "\n"
      ]
    },
    {
      "cell_type": "markdown",
      "metadata": {
        "id": "_y2QFwsqot32"
      },
      "source": [
        "#### **Coding Exercise: Add special tokens**\n",
        "\n",
        "We want to add these special tokens to the start and end of each one of our preprocessed sentences. To do so, fill out the code below to loop through your `sentences` array and create a new sentence that adds `\"[CLS] \"` to the start of the sentence and that adds `\" [SEP]\"` to the end of the sentence. Add the newly modified sentence to the list variable named `sentences_with_special_tokens`.\n",
        "\n",
        "**Note: When you add the `\"[CLS] \"` string to the front of the sentence, ensure that you add it with the space character at the end as shown. Similarly, add the `\" [SEP]\"` string to the end of the sentence with a space character at the start as shown.**"
      ]
    },
    {
      "cell_type": "code",
      "metadata": {
        "id": "S0UZQC9KpOAn",
        "colab": {
          "base_uri": "https://localhost:8080/"
        },
        "outputId": "1bf01902-2780-4810-a024-0a254388cc80"
      },
      "source": [
        "sentences_with_special_tokens = []\n",
        "### YOUR CODE HERE\n",
        "for sentence in sentences:\n",
        "  new_sentence = \"[CLS] \" + sentence + \" [SEP]\"\n",
        "  sentences_with_special_tokens.append(new_sentence)\n",
        "print(sentences_with_special_tokens[0])\n",
        "### END CODE"
      ],
      "execution_count": null,
      "outputs": [
        {
          "output_type": "stream",
          "name": "stdout",
          "text": [
            "[CLS] Autotank Group is part of Aspo 's Systems Division . [SEP]\n"
          ]
        }
      ]
    },
    {
      "cell_type": "markdown",
      "metadata": {
        "id": "ou1rAcuirN68"
      },
      "source": [
        "#### **Coding Exercise: Tokenize your sentences**\n",
        "\n",
        "Now we will tokenize our new list of input sentences using our BERT `tokenizer`. Do so by looping through your new `sentences_with_special_tokens` list and apply `tokenizer.tokenize(SENTENCE)` to each sentence. Add each tokenized sentence to a list named `tokenized_texts`."
      ]
    },
    {
      "cell_type": "code",
      "metadata": {
        "id": "1Wn28oGGrpgF",
        "colab": {
          "base_uri": "https://localhost:8080/"
        },
        "outputId": "63980ab0-540c-45c6-d6e2-eca496acbe23"
      },
      "source": [
        "tokenized_texts = []\n",
        "### YOUR CODE HERE\n",
        "for sentences in sentences_with_special_tokens:\n",
        "  tokenized_sentence = tokenizer.tokenize(sentences)\n",
        "  tokenized_texts.append(tokenized_sentence)\n",
        "print(tokenized_texts[0])\n",
        "### END CODE"
      ],
      "execution_count": null,
      "outputs": [
        {
          "output_type": "stream",
          "name": "stdout",
          "text": [
            "['[CLS]', 'auto', '##tan', '##k', 'group', 'is', 'part', 'of', 'as', '##po', \"'\", 's', 'systems', 'division', '.', '[SEP]']\n"
          ]
        }
      ]
    },
    {
      "cell_type": "markdown",
      "metadata": {
        "id": "X47WRWKnJaje"
      },
      "source": [
        "#### **Sentence Length** ####"
      ]
    },
    {
      "cell_type": "markdown",
      "metadata": {
        "id": "jt0BAL9BJjBT"
      },
      "source": [
        "Since our input has sentences of varying length, we need to pad them to be the same length. BERT has the follow constraints on sentence length:\n",
        "1. All sentences must be padded or truncated to a single, fixed length.\n",
        "2. The maximum sentence length is 512 tokens.\n",
        "\n",
        "In order to handle this, every input sequence is padded to pre-defined fixed length with a special `[PAD]` token, which pads the sequence with zeros.\n"
      ]
    },
    {
      "cell_type": "markdown",
      "metadata": {
        "id": "_e2jJaPescCj"
      },
      "source": [
        "#### **Coding Exercise: Encode tokenized sentences with indices**\n",
        "\n",
        "Before we properly pad the sentences, we will first map each token to its corresponding index for each tokenized sentence. To do so, we will loop through your `tokenized_texts` variable call the `tokenizer.convert_tokens_to_ids(TOKENIZED_SENTENCE)` while passing in your tokenized sentence to convert it to a list of corresponding indices. Add each converted list to the variable named `input_ids`."
      ]
    },
    {
      "cell_type": "code",
      "metadata": {
        "id": "Y_deSpjHtJ_8",
        "colab": {
          "base_uri": "https://localhost:8080/"
        },
        "outputId": "9ec34bcb-8371-45be-ba65-de096f5662fe"
      },
      "source": [
        "input_ids = []\n",
        "### YOUR CODE HERE\n",
        "for new_ids in tokenized_texts:\n",
        "  new_list = tokenizer.convert_tokens_to_ids(new_ids)\n",
        "  input_ids.append(new_list)\n",
        "print(input_ids[:3])\n",
        "### END CODE"
      ],
      "execution_count": null,
      "outputs": [
        {
          "output_type": "stream",
          "name": "stdout",
          "text": [
            "[[101, 8285, 5794, 2243, 2177, 2003, 2112, 1997, 2004, 6873, 1005, 1055, 3001, 2407, 1012, 102], [101, 1996, 3206, 2950, 2640, 1010, 2810, 1010, 6959, 1997, 3941, 1010, 8272, 1998, 21612, 1012, 102], [101, 9680, 7911, 2056, 2009, 10035, 2009, 2097, 2191, 10995, 1997, 1015, 1011, 1016, 19875, 2078, 7327, 2099, 1037, 2095, 2011, 2430, 9355, 2049, 2413, 3136, 2012, 2028, 2609, 1012, 102]]\n"
          ]
        }
      ]
    },
    {
      "cell_type": "markdown",
      "metadata": {
        "id": "yFgUi0G-tma-"
      },
      "source": [
        "#### **Coding Exercise: Padding your input**\n",
        "\n",
        "Now we will pad our input to ensure that every sequence has the same length. To do so, we will utilize the `keras` function named `pad_sequences()`. Call the function below to properly pad your sequences. We want to pad every sequence to a length of `128`, so ensure that you pass in `128` for `maxlen` in the function call. Print the first element of your new `input_ids` to observe the new padded sequence."
      ]
    },
    {
      "cell_type": "code",
      "metadata": {
        "id": "T7hdDYWTtlOu"
      },
      "source": [
        "input_ids = pad_sequences(input_ids,\n",
        "                          maxlen=128, ### YOUR CODE HERE\n",
        "                          dtype=\"long\",\n",
        "                          truncating=\"post\",\n",
        "                          padding=\"post\")"
      ],
      "execution_count": null,
      "outputs": []
    },
    {
      "cell_type": "markdown",
      "metadata": {
        "id": "90eOsNIMKyZB"
      },
      "source": [
        "####**Attention Masks**####"
      ]
    },
    {
      "cell_type": "markdown",
      "metadata": {
        "id": "B_-H9HfbK4sh"
      },
      "source": [
        "An Attention Mask is an array of 1s and 0s indicating which tokens are padding and which are not. The idea behind attention masks is that we do not want the extra padded sequence tokens to contribute to the input features of the machine learning model. So, we essentially zero them out to highlight their insignificance before passing them through the model.\n",
        "\n",
        "Each sequence has a corresponding attention mask. Consider the input sequence below and its corresponding attention mask. We want to create an attention mask for each sequence before passing our data through the BERT model.\n",
        "\n",
        "\n",
        "\n",
        "\n"
      ]
    },
    {
      "cell_type": "markdown",
      "metadata": {
        "id": "WysesWTwwrka"
      },
      "source": [
        "![picture](https://drive.google.com/uc?id=1LgtkmZU8fQZsn9L85lENHgGxej3i61TP)"
      ]
    },
    {
      "cell_type": "markdown",
      "metadata": {
        "id": "XuW6eulYvHjc"
      },
      "source": [
        "#### **Coding Exercise: Create attention masks**\n",
        "\n",
        "Create an attention mask for each sequence in your `input_ids` list. The attention mask for a particular tokenized sequence will have the same exact length and will have a `1.0` at every index that there is a token and a `0.0` at every index that there is a padding. Loop through your `input_ids` and for each sequence create a corresponding attention mask and add it to the `attention_masks` list.\n",
        "\n",
        "**Hint: To get the attention mask given a tokenized sequence, you may use the line of code `mask=[float(i>0) for i in SEQUENCE]` where `SEQUENCE` is an element of your `input_ids` list.**"
      ]
    },
    {
      "cell_type": "code",
      "metadata": {
        "id": "qoLBbuUgSJEU",
        "colab": {
          "base_uri": "https://localhost:8080/"
        },
        "outputId": "ed0edf97-68a3-44f7-c93f-36937f2a1ade"
      },
      "source": [
        "attention_masks = []\n",
        "\n",
        "###YOUR CODE HERE###\n",
        "for sequence in input_ids:\n",
        "  mask=[float(i>0) for i in sequence]\n",
        "  attention_masks.append(mask)\n",
        "print(attention_masks[0])\n",
        "###END CODE ###"
      ],
      "execution_count": null,
      "outputs": [
        {
          "output_type": "stream",
          "name": "stdout",
          "text": [
            "[1.0, 1.0, 1.0, 1.0, 1.0, 1.0, 1.0, 1.0, 1.0, 1.0, 1.0, 1.0, 1.0, 1.0, 1.0, 1.0, 0.0, 0.0, 0.0, 0.0, 0.0, 0.0, 0.0, 0.0, 0.0, 0.0, 0.0, 0.0, 0.0, 0.0, 0.0, 0.0, 0.0, 0.0, 0.0, 0.0, 0.0, 0.0, 0.0, 0.0, 0.0, 0.0, 0.0, 0.0, 0.0, 0.0, 0.0, 0.0, 0.0, 0.0, 0.0, 0.0, 0.0, 0.0, 0.0, 0.0, 0.0, 0.0, 0.0, 0.0, 0.0, 0.0, 0.0, 0.0, 0.0, 0.0, 0.0, 0.0, 0.0, 0.0, 0.0, 0.0, 0.0, 0.0, 0.0, 0.0, 0.0, 0.0, 0.0, 0.0, 0.0, 0.0, 0.0, 0.0, 0.0, 0.0, 0.0, 0.0, 0.0, 0.0, 0.0, 0.0, 0.0, 0.0, 0.0, 0.0, 0.0, 0.0, 0.0, 0.0, 0.0, 0.0, 0.0, 0.0, 0.0, 0.0, 0.0, 0.0, 0.0, 0.0, 0.0, 0.0, 0.0, 0.0, 0.0, 0.0, 0.0, 0.0, 0.0, 0.0, 0.0, 0.0, 0.0, 0.0, 0.0, 0.0, 0.0, 0.0]\n"
          ]
        }
      ]
    },
    {
      "cell_type": "markdown",
      "metadata": {
        "id": "jh5_xaQ8YRdb"
      },
      "source": [
        "## **Setting up your Data for BERT**\n",
        "\n",
        "Finally, we need to split our data and convert it to objects that will work most efficiently with the BERT model training procedure. Specifically, we will split our training data into training and validation sets. Additionally, we will convert our data objects into `tensor` s such that we can easily feed the input into the model."
      ]
    },
    {
      "cell_type": "markdown",
      "metadata": {
        "id": "BQR_H7xAyFlX"
      },
      "source": [
        "#### **Coding Exercise: Train/Test Split**\n",
        "\n",
        "To run machine learning models, we first need to split our dataset into training and validation sections. We can do so by using the `train_test_split()` function. One call to this function returns four separate items:\n",
        "  1. X_train\n",
        "  2. X_val\n",
        "  3. y_train\n",
        "  4. y_val\n",
        "\n",
        "We will save these returned elements in variables with respective names. Call the `train_test_split()` function, passing in `input_ids`, `labels`, `test_size=0.15`, and `random_state=RND_SEED`."
      ]
    },
    {
      "cell_type": "code",
      "metadata": {
        "id": "x45mr_TJyP5J"
      },
      "source": [
        "X_train, X_val, y_train, y_val = train_test_split(input_ids, labels, test_size=0.15, random_state=RND_SEED) ### YOUR CODE HERE"
      ],
      "execution_count": null,
      "outputs": []
    },
    {
      "cell_type": "markdown",
      "metadata": {
        "id": "cZOG4dG1zA3X"
      },
      "source": [
        "We also want to split our attention masks in the same way. Similarly, call the `train_test_split()` function, passing in `attention_masks`, `input_ids`, `test_size=0.15`, and `random_state=RND_SEED`. However, we only need to save the first two returned items in variables named `train_masks` and `validation_masks`."
      ]
    },
    {
      "cell_type": "code",
      "metadata": {
        "id": "IzU-N_UxzC2n"
      },
      "source": [
        "train_masks, validation_masks, _, _ = train_test_split(attention_masks, input_ids, test_size=0.15, random_state=RND_SEED) ### YOUR CODE HERE"
      ],
      "execution_count": null,
      "outputs": []
    },
    {
      "cell_type": "markdown",
      "metadata": {
        "id": "XJUPm4lB5Hom"
      },
      "source": [
        "In addition to converting our data to `tensor`, `tensorflow` array objects, we will also create a `DataLoader` for our input. A `DataLoader` is simply an object that simplifies and streamlines feeding in data to our model."
      ]
    },
    {
      "cell_type": "code",
      "metadata": {
        "id": "lm8uhq7rU3nY"
      },
      "source": [
        "#@title Run this cell to convert data to tensors and create DataLoaders\n",
        "train_inputs = torch.tensor(np.array(X_train));\n",
        "validation_inputs = torch.tensor(np.array(X_val));\n",
        "train_masks = torch.tensor(np.array(train_masks));\n",
        "validation_masks = torch.tensor(np.array(validation_masks));\n",
        "train_labels = torch.tensor(np.array(y_train));\n",
        "validation_labels = torch.tensor(np.array(y_val));\n",
        "\n",
        "batch_size = 32\n",
        "train_data = TensorDataset(train_inputs, train_masks, train_labels);\n",
        "train_sampler = RandomSampler(train_data); # Samples data randonly for training\n",
        "train_dataloader = DataLoader(train_data, sampler=train_sampler, batch_size=batch_size);\n",
        "validation_data = TensorDataset(validation_inputs, validation_masks, validation_labels);\n",
        "validation_sampler = SequentialSampler(validation_data); # Samples data sequentially\n",
        "validation_dataloader = DataLoader(validation_data, sampler=validation_sampler, batch_size=batch_size);"
      ],
      "execution_count": null,
      "outputs": []
    },
    {
      "cell_type": "markdown",
      "metadata": {
        "id": "73xKQg_qWDq1"
      },
      "source": [
        "# **Milestone 3: Running and finetuning our BERT model with the PyTorch huggingface transformer library.**\n",
        "\n",
        "\n",
        "\n"
      ]
    },
    {
      "cell_type": "markdown",
      "metadata": {
        "id": "GnAnFaYTY4y4"
      },
      "source": [
        "To use BERT in our sentiment analysis, we first want to modify BERT to output either a positive, neutral, or negative classification. Next,  we want to train the model on our dataset so that the entire model, end-to-end, is well-suited to our task.\n",
        "\n",
        "The huggingface PyTorch implementation includes a set of interfaces designed for a variety of NLP tasks. These interfaces are all built on top of a pre-trained BERT model, and each has different top layers and output types designed to accomodate their specific NLP task. (An analogy: imagine BERT is a garden hose; then the huggingface PyTorch interfaces are like different nozzles for the garden hose, so we can use it for \"jet,\" \"mist,\" etc.)\n",
        "\n",
        "For our sentiment classification task we will use:\n",
        "\n",
        "* **BertForSequenceClassification** - This is the normal BERT model with an added single linear layer on top for classification that we will use as a sentence classifier. As we feed input data, the entire pre-trained BERT model and the additional untrained classification layer is trained on our specific task.\n",
        "\n",
        "\n",
        "The documentation for this can be found [here](https://huggingface.co/transformers/v2.2.0/model_doc/bert.html#bertforsequenceclassification)."
      ]
    },
    {
      "cell_type": "markdown",
      "metadata": {
        "id": "frAYD51x54gW"
      },
      "source": [
        "We will create a `BertForSequenceClassification` model and save it in a variable named `model`."
      ]
    },
    {
      "cell_type": "code",
      "metadata": {
        "id": "j-iu1Nm0yiTS",
        "colab": {
          "base_uri": "https://localhost:8080/",
          "height": 174,
          "referenced_widgets": [
            "0f64b18c70484744b505049cfd8d2d8c",
            "2b4803da693f4b0ea3550575067cdb7c",
            "7dc1260550734d03ac2dc543ba24b4df",
            "44c09c5ecbef4850bff401232abe1f64",
            "364ec45cd13e4a3196899965e32d959a",
            "87cab0e8d0594b438bba2d8b729c7a35",
            "c38e0073746b4ddd99ad3f06a4e0ad84",
            "5e78327bee674229b229a3c9f8d5a176",
            "fe9e0f35baff4a21a5c71be65f4b4220",
            "130f03f99bc8447b8f312c5bac524de7",
            "3af6b640580f49bdaf55d0d54706e6c6"
          ]
        },
        "outputId": "a0794605-bb88-497d-a4ca-6e296702de39"
      },
      "source": [
        "#@title Run this cell to initialize your BertForSequenceClassification model\n",
        "#Load BertForSequenceClassification, the pretrained BERT model with a single linear classification layer on top.\n",
        "model = BertForSequenceClassification.from_pretrained(\n",
        "    \"bert-base-uncased\", # Use the 12-layer BERT small model, with an uncased vocab.\n",
        "    num_labels = 3,\n",
        "    output_attentions = False, # Whether the model returns attentions weights.\n",
        "    output_hidden_states = False, # Whether the model returns all hidden-states.\n",
        ");\n",
        "\n",
        "# Given that this a huge neural network, we need to explicity specify\n",
        "# in pytorch to run this model on the GPU.\n",
        "model.cuda();\n",
        "\n",
        "device = torch.device(\"cuda\" if torch.cuda.is_available() else \"cpu\")\n",
        "n_gpu = torch.cuda.device_count()\n",
        "torch.cuda.get_device_name(0)"
      ],
      "execution_count": null,
      "outputs": [
        {
          "output_type": "display_data",
          "data": {
            "text/plain": [
              "Downloading:   0%|          | 0.00/440M [00:00<?, ?B/s]"
            ],
            "application/vnd.jupyter.widget-view+json": {
              "version_major": 2,
              "version_minor": 0,
              "model_id": "0f64b18c70484744b505049cfd8d2d8c"
            }
          },
          "metadata": {}
        },
        {
          "output_type": "stream",
          "name": "stderr",
          "text": [
            "Some weights of the model checkpoint at bert-base-uncased were not used when initializing BertForSequenceClassification: ['cls.predictions.decoder.weight', 'cls.predictions.transform.dense.bias', 'cls.seq_relationship.weight', 'cls.predictions.bias', 'cls.predictions.transform.dense.weight', 'cls.predictions.transform.LayerNorm.weight', 'cls.seq_relationship.bias', 'cls.predictions.transform.LayerNorm.bias']\n",
            "- This IS expected if you are initializing BertForSequenceClassification from the checkpoint of a model trained on another task or with another architecture (e.g. initializing a BertForSequenceClassification model from a BertForPreTraining model).\n",
            "- This IS NOT expected if you are initializing BertForSequenceClassification from the checkpoint of a model that you expect to be exactly identical (initializing a BertForSequenceClassification model from a BertForSequenceClassification model).\n",
            "Some weights of BertForSequenceClassification were not initialized from the model checkpoint at bert-base-uncased and are newly initialized: ['classifier.bias', 'classifier.weight']\n",
            "You should probably TRAIN this model on a down-stream task to be able to use it for predictions and inference.\n"
          ]
        },
        {
          "output_type": "execute_result",
          "data": {
            "text/plain": [
              "'Tesla T4'"
            ],
            "application/vnd.google.colaboratory.intrinsic+json": {
              "type": "string"
            }
          },
          "metadata": {},
          "execution_count": 34
        }
      ]
    },
    {
      "cell_type": "markdown",
      "metadata": {
        "id": "chNBo_lQ0a2D"
      },
      "source": [
        "#### **Coding Exercise: Initialize hyperparameters**\n",
        "\n",
        "There are two hyperparamters we will consider: **Learning rate** and **Epochs**. Improperly setting these hyperparamters could lead to overfitting or underfitting. We will set these values as follows:\n",
        "\n",
        "1. **Learning rate**: 2e-5\n",
        "2. **Epochs**: 4\n",
        "\n",
        "The learning rate parameter comes as part of an optimizer object that we use in our model. Only change the value of the `lr` variable inside the `AdamW` object. Fill in these hyperparameter values below and run the code cell before proceeding. Revisit this cell after you complete the notebook to try and improve your model through modifying these parameter values!"
      ]
    },
    {
      "cell_type": "code",
      "metadata": {
        "id": "Toc3r89-76M8",
        "colab": {
          "base_uri": "https://localhost:8080/"
        },
        "outputId": "08b1a377-df73-4c61-c595-d7e7c7b177ea"
      },
      "source": [
        "optimizer = AdamW(model.parameters(),\n",
        "                  lr = 2e-5, ### YOUR CODE HERE # learning rate 2^-5\n",
        "                  eps = 1e-8 #epsilon 1^-8\n",
        "                )\n",
        "epochs = 4"
      ],
      "execution_count": null,
      "outputs": [
        {
          "output_type": "stream",
          "name": "stderr",
          "text": [
            "/usr/local/lib/python3.8/dist-packages/transformers/optimization.py:306: FutureWarning: This implementation of AdamW is deprecated and will be removed in a future version. Use the PyTorch implementation torch.optim.AdamW instead, or set `no_deprecation_warning=True` to disable this warning\n",
            "  warnings.warn(\n"
          ]
        }
      ]
    },
    {
      "cell_type": "markdown",
      "metadata": {
        "id": "IP1Ltw979KEa"
      },
      "source": [
        "#### **Discussion Exercise: Training Model Steps**\n",
        "\n",
        "Below are a list of steps taken to train the model listed in no particular order. Look at the steps and discuss the significance of each. Afterwards, order the steps based on how you think the model training procedure is carried out and list them in order below.\n",
        "\n",
        "Training Steps:\n",
        "*   Backward pass (backpropagation)\n",
        "*   Clear out the gradients calculated in the previous pass\n",
        "*   Update parameters\n",
        "*   Unpack our data inputs and labels from the DataLoader objects\n",
        "*   Forward pass (feed data through network)"
      ]
    },
    {
      "cell_type": "code",
      "metadata": {
        "cellView": "form",
        "id": "yuf46Ae8-Lvf",
        "colab": {
          "base_uri": "https://localhost:8080/"
        },
        "outputId": "b9208e09-6a2e-4c07-9aaf-2ed650397c7a"
      },
      "source": [
        "#@title Exercise. Ordered Model Training Steps\n",
        "\n",
        "_1_ = '' #@param {type:\"string\"}\n",
        "_2_ = '' #@param {type:\"string\"}\n",
        "_3_ = '' #@param {type:\"string\"}\n",
        "_4_ = '' #@param {type:\"string\"}\n",
        "_5_ = '' #@param {type:\"string\"}\n",
        "\n",
        "print('{}\\n{}\\n{}\\n{}\\n{}'.format(\n",
        "    '1. Unpack our data inputs and labels from the DataLoader objects',\n",
        "    '2. Clear out the gradients calculated in the previous pass',\n",
        "    '3. Forward pass',\n",
        "    '4. Backward pass',\n",
        "    '5. Update hyperparamters'))"
      ],
      "execution_count": null,
      "outputs": [
        {
          "output_type": "stream",
          "name": "stdout",
          "text": [
            "1. Unpack our data inputs and labels from the DataLoader objects\n",
            "2. Clear out the gradients calculated in the previous pass\n",
            "3. Forward pass\n",
            "4. Backward pass\n",
            "5. Update hyperparamters\n"
          ]
        }
      ]
    },
    {
      "cell_type": "code",
      "metadata": {
        "id": "RpNhCuKZ33X8",
        "colab": {
          "base_uri": "https://localhost:8080/"
        },
        "outputId": "2905320a-bd7e-4bf1-b7b7-c260c8e7b5db"
      },
      "source": [
        "#@title Run this cell to train your model!\n",
        "\n",
        "# Total number of training steps is [number of batches] x [number of epochs].\n",
        "# (Note that this is not the same as the number of training samples).\n",
        "total_steps = len(train_dataloader) * epochs\n",
        "\n",
        "# Create the learning rate scheduler.\n",
        "scheduler = get_linear_schedule_with_warmup(optimizer,\n",
        "                                            num_warmup_steps = 0, # Default value in run_glue.py\n",
        "                                            num_training_steps = total_steps)\n",
        "\n",
        "# We'll store training and validation loss,\n",
        "# validation accuracy, and timings.\n",
        "training_loss = []\n",
        "validation_loss = []\n",
        "training_stats = []\n",
        "for epoch_i in range(0, epochs):\n",
        "    # Training\n",
        "    print('Epoch {:} / {:} ========'.format(epoch_i + 1, epochs))\n",
        "    print('Training the model')\n",
        "    # Reset the total loss for  epoch.\n",
        "    total_train_loss = 0\n",
        "    # Put the model into training mode.\n",
        "    model.train()\n",
        "    # For each batch of training data\n",
        "    for step, batch in enumerate(train_dataloader):\n",
        "        # Progress update every 40 batches.\n",
        "        if step % 20 == 0 and not step == 0:\n",
        "            # Report progress.\n",
        "            print('  Batch {:>5,}  of  {:>5,}. '.format(step, len(train_dataloader)))\n",
        "\n",
        "        # STEP 1 & 2: Unpack this training batch from our dataloader.\n",
        "        # As we unpack the batch, we'll also copy each tensor to the GPU using the\n",
        "        # `to` method.\n",
        "        # `batch` contains three pytorch tensors:\n",
        "        #   [0]: input ids\n",
        "        #   [1]: attention masks\n",
        "        #   [2]: labels\n",
        "        b_input_ids = batch[0].to(device)\n",
        "        b_input_mask = batch[1].to(device)\n",
        "        b_labels = batch[2].to(device)\n",
        "\n",
        "        # STEP 3\n",
        "        # Always clear any previously calculated gradients before performing a\n",
        "        # backward pass.\n",
        "        model.zero_grad()\n",
        "\n",
        "        # STEP 4\n",
        "        # Perform a forward pass (evaluate the model on this training batch).\n",
        "        # It returns the loss (because we provided labels) and\n",
        "        # the \"logits\"--the model outputs prior to activation.\n",
        "        outputs = model(b_input_ids,\n",
        "                             token_type_ids=None,\n",
        "                             attention_mask=b_input_mask,\n",
        "                             labels=b_labels)\n",
        "        loss = outputs[0]\n",
        "        logits = outputs[1]\n",
        "        # Accumulate the training loss over all of the batches so that we can\n",
        "        # calculate the average loss at the end. `loss` is a Tensor containing a\n",
        "        # single value; the `.item()` function just returns the Python value\n",
        "        # from the tensor.\n",
        "        total_train_loss += loss.item()\n",
        "\n",
        "        # STEP 5\n",
        "        # Perform a backward pass to calculate the gradients.\n",
        "        loss.backward()\n",
        "        # Clip the norm of the gradients to 1.0.\n",
        "        # This is to help prevent the \"exploding gradients\" problem.\n",
        "        torch.nn.utils.clip_grad_norm_(model.parameters(), 1.0)\n",
        "\n",
        "        # STEP 6\n",
        "        # Update parameters and take a step using the computed gradient\n",
        "        optimizer.step()\n",
        "        # Update the learning rate.\n",
        "        scheduler.step()\n",
        "\n",
        "    # Calculate the average loss over all of the batches.\n",
        "    avg_train_loss = total_train_loss / len(train_dataloader)\n",
        "\n",
        "    print(\"  Average training loss: {0:.2f}\".format(avg_train_loss))\n",
        "    # Validation\n",
        "    # After the completion of each training epoch, measure our performance on\n",
        "    # our validation set.\n",
        "\n",
        "    print(\"Evaluating on Validation Set\")\n",
        "    # Put the model in evaluation mode\n",
        "    model.eval()\n",
        "    # Tracking variables\n",
        "    total_eval_accuracy = 0\n",
        "    total_eval_loss = 0\n",
        "    nb_eval_steps = 0\n",
        "    # Evaluate data for one epoch\n",
        "    for batch in validation_dataloader:\n",
        "        #Step 1 and Step 2\n",
        "        # Unpack this validation batch from our dataloader.\n",
        "\n",
        "        b_input_ids = batch[0].to(device)\n",
        "        b_input_mask = batch[1].to(device)\n",
        "        b_labels = batch[2].to(device)\n",
        "\n",
        "        # Tell pytorch not to bother with constructing the compute graph during\n",
        "        # the forward pass, since this is only needed for backprop (training).\n",
        "        with torch.no_grad():\n",
        "\n",
        "            # Forward pass, calculate logit predictions.\n",
        "            # The \"logits\" are the output\n",
        "            # values prior to applying an activation function like the softmax.\n",
        "            outputs = model(b_input_ids,\n",
        "                                   token_type_ids=None,\n",
        "                                   attention_mask=b_input_mask,\n",
        "                                   labels=b_labels)\n",
        "            loss = outputs[0]\n",
        "            logits = outputs[1]\n",
        "\n",
        "        # Accumulate the validation loss.\n",
        "        total_eval_loss += loss.item()\n",
        "\n",
        "        # Move logits and labels to CPU\n",
        "        logits = logits.detach().cpu().numpy()\n",
        "        label_ids = b_labels.to('cpu').numpy()\n",
        "\n",
        "        # Calculate the accuracy for this batch of test sentences, and\n",
        "        # accumulate it over all batches.\n",
        "        total_eval_accuracy += flat_accuracy(logits, label_ids)\n",
        "\n",
        "\n",
        "    # Report the final accuracy for this validation run.\n",
        "    avg_val_accuracy = total_eval_accuracy / len(validation_dataloader)\n",
        "    print(\"Validation Accuracy: {0:.2f}\".format(avg_val_accuracy))\n",
        "\n",
        "    # Calculate the average loss over all of the batches.\n",
        "    avg_val_loss = total_eval_loss / len(validation_dataloader)\n",
        "\n",
        "\n",
        "\n",
        "    print(\"Validation Loss: {0:.2f}\".format(avg_val_loss))\n",
        "\n",
        "\n",
        "    training_loss.append(avg_train_loss)\n",
        "    validation_loss.append(avg_val_loss)\n",
        "    # Record all statistics from this epoch.\n",
        "\n",
        "    training_stats.append(\n",
        "        {\n",
        "            'epoch': epoch_i + 1,\n",
        "            'Training Loss': avg_train_loss,\n",
        "            'Valid. Loss': avg_val_loss,\n",
        "            'Valid. Accur.': avg_val_accuracy\n",
        "\n",
        "        }\n",
        "    )\n",
        "\n",
        "print(\"Training complete!\")"
      ],
      "execution_count": null,
      "outputs": [
        {
          "output_type": "stream",
          "name": "stdout",
          "text": [
            "Epoch 1 / 4 ========\n",
            "Training the model\n",
            "  Batch    20  of     55. \n",
            "  Batch    40  of     55. \n",
            "  Average training loss: 0.62\n",
            "Evaluating on Validation Set\n",
            "Validation Accuracy: 0.79\n",
            "Validation Loss: 0.44\n",
            "Epoch 2 / 4 ========\n",
            "Training the model\n",
            "  Batch    20  of     55. \n",
            "  Batch    40  of     55. \n",
            "  Average training loss: 0.35\n",
            "Evaluating on Validation Set\n",
            "Validation Accuracy: 0.84\n",
            "Validation Loss: 0.35\n",
            "Epoch 3 / 4 ========\n",
            "Training the model\n",
            "  Batch    20  of     55. \n",
            "  Batch    40  of     55. \n",
            "  Average training loss: 0.22\n",
            "Evaluating on Validation Set\n",
            "Validation Accuracy: 0.95\n",
            "Validation Loss: 0.17\n",
            "Epoch 4 / 4 ========\n",
            "Training the model\n",
            "  Batch    20  of     55. \n",
            "  Batch    40  of     55. \n",
            "  Average training loss: 0.11\n",
            "Evaluating on Validation Set\n",
            "Validation Accuracy: 0.96\n",
            "Validation Loss: 0.14\n",
            "Training complete!\n"
          ]
        }
      ]
    },
    {
      "cell_type": "markdown",
      "metadata": {
        "id": "YJeeXKQe_Qkm"
      },
      "source": [
        "#### **Coding Exercise: Plot your losses!**\n",
        "\n",
        "When we trained the model above, the training and validation losses were saved in variables named `training_loss` and `validation_loss` respectively. Let us plot these curves and analyze what we see!\n",
        "\n"
      ]
    },
    {
      "cell_type": "code",
      "metadata": {
        "id": "9L7K8cTM_ili",
        "colab": {
          "base_uri": "https://localhost:8080/",
          "height": 421
        },
        "outputId": "5cf28148-481b-4001-80bb-d7e24e4e2a5f"
      },
      "source": [
        "fig = plt.figure(figsize=(12,6))\n",
        "plt.title('Loss over Time')\n",
        "plt.xlabel('Epochs')\n",
        "plt.ylabel('Loss')\n",
        "\n",
        "### YOUR CODE HERE\n",
        "plt.plot(training_loss, color = 'red')\n",
        "plt.plot(validation_loss)\n",
        "### END CODE\n",
        "\n",
        "plt.legend()\n",
        "plt.show()"
      ],
      "execution_count": null,
      "outputs": [
        {
          "output_type": "stream",
          "name": "stderr",
          "text": [
            "WARNING:matplotlib.legend:No handles with labels found to put in legend.\n"
          ]
        },
        {
          "output_type": "display_data",
          "data": {
            "text/plain": [
              "<Figure size 864x432 with 1 Axes>"
            ],
            "image/png": "[encoded data removed]"
          },
          "metadata": {
            "needs_background": "light"
          }
        }
      ]
    },
    {
      "cell_type": "markdown",
      "metadata": {
        "id": "BQD-f1dOAiTT"
      },
      "source": [
        "#### **Coding Exercise: Evaluate your test set accuracy.**\n",
        "\n",
        "To be able to assess the accuracy on the test set, we need to carry out the data preprocessing, tokenization, padding, and formatting on the test set saved in `df_test` from earlier.\n",
        "\n",
        "First, to make this process easier, save the sentences and labels from `df_test` in variables named `test_sentences` and `test_labels`.\n",
        "\n",
        "**Note: To access a column from a dataframe based on the column name, you can use the code structure: `column = df_test[\"column_name\"].values`. Replace `column_name` with your desired column to access it.**\n",
        "\n"
      ]
    },
    {
      "cell_type": "code",
      "metadata": {
        "id": "01aUl-mxBLgX"
      },
      "source": [
        "### YOUR CODE HERE\n",
        "test_sentences = df_test[\"Sentence\"].values\n",
        "test_labels = df_test[\"Label\"].values\n",
        "### END CODE"
      ],
      "execution_count": null,
      "outputs": []
    },
    {
      "cell_type": "markdown",
      "metadata": {
        "id": "hACjYuF2AJo9"
      },
      "source": [
        "Now we will format our test input data similarly to how we formatted our training input data. Run the cell below to create the variables `test_input_ids` and `test_attention_masks`."
      ]
    },
    {
      "cell_type": "code",
      "metadata": {
        "id": "5ncZome9-tPE",
        "cellView": "form"
      },
      "source": [
        "#@title Run this cell to process and prepare our test data!\n",
        "test_input_ids, test_attention_masks = [], []\n",
        "\n",
        "# Add Special Tokens\n",
        "test_sentences = [\"[CLS] \" + sentence + \" [SEP]\" for sentence in test_sentences]\n",
        "\n",
        "# Tokenize sentences\n",
        "tokenized_test_sentences = [tokenizer.tokenize(sent) for sent in test_sentences]\n",
        "\n",
        "# Encode Tokens to Word IDs\n",
        "test_input_ids = [tokenizer.convert_tokens_to_ids(txt) for txt in tokenized_test_sentences]\n",
        "\n",
        "# Pad the inputs\n",
        "test_input_ids = pad_sequences(test_input_ids,\n",
        "                               maxlen=128,\n",
        "                               dtype=\"long\",\n",
        "                               truncating=\"post\",\n",
        "                               padding=\"post\")\n",
        "\n",
        "# Create Attention Masks\n",
        "for sequence in test_input_ids:\n",
        "  mask = [float(i>0) for i in sequence]\n",
        "  test_attention_masks.append(mask)"
      ],
      "execution_count": null,
      "outputs": []
    },
    {
      "cell_type": "markdown",
      "metadata": {
        "id": "Ca5qUrf1Ci8m"
      },
      "source": [
        "Just as before, we will convert our data to `tensor` and create a `DataLoader` for our inputs."
      ]
    },
    {
      "cell_type": "code",
      "metadata": {
        "id": "4CiYwcQIANi8",
        "cellView": "form"
      },
      "source": [
        "#@title Run this cell to convert data to tensors and create DataLoaders\n",
        "batch_size = 32\n",
        "test_input_ids = torch.tensor(test_input_ids)\n",
        "test_attention_masks = torch.tensor(test_attention_masks)\n",
        "test_labels = torch.tensor(test_labels)\n",
        "prediction_data = TensorDataset(test_input_ids, test_attention_masks, test_labels)\n",
        "prediction_sampler = SequentialSampler(prediction_data)\n",
        "prediction_dataloader = DataLoader(prediction_data, sampler=prediction_sampler, batch_size=batch_size)"
      ],
      "execution_count": null,
      "outputs": []
    },
    {
      "cell_type": "markdown",
      "metadata": {
        "id": "ArwOSMuwAXzs"
      },
      "source": [
        "Finally, run the cell below to evaluate your accuracy on your test dataset!"
      ]
    },
    {
      "cell_type": "code",
      "metadata": {
        "id": "t4rX-vG7AaXl",
        "cellView": "form",
        "colab": {
          "base_uri": "https://localhost:8080/"
        },
        "outputId": "35930a03-f8aa-4c9c-dc25-23bdb5dffb70"
      },
      "source": [
        "#@title Evaluate Test Set Accuracy!\n",
        "# Prediction on test set\n",
        "\n",
        "print('Predicting labels for {:,} test sentences...'.format(len(test_input_ids)))\n",
        "\n",
        "# Put model in evaluation mode\n",
        "model.eval()\n",
        "\n",
        "# Tracking variables\n",
        "predictions , true_labels = [], []\n",
        "\n",
        "# Predict\n",
        "for batch in prediction_dataloader:\n",
        "  # Add batch to GPU\n",
        "  batch = tuple(t.to(device) for t in batch)\n",
        "\n",
        "  # Unpack the inputs from our dataloader\n",
        "  b_input_ids, b_input_mask, b_labels = batch\n",
        "\n",
        "  with torch.no_grad():\n",
        "      # Forward pass, calculate logit predictions\n",
        "      outputs = model(b_input_ids, token_type_ids=None,\n",
        "                      attention_mask=b_input_mask)\n",
        "\n",
        "  logits = outputs[0]\n",
        "\n",
        "  # Move logits and labels to CPU\n",
        "  logits = logits.detach().cpu().numpy()\n",
        "  label_ids = b_labels.to('cpu').numpy()\n",
        "\n",
        "  # Store predictions and true labels\n",
        "  predictions.append(logits)\n",
        "  true_labels.append(label_ids)\n",
        "\n",
        "\n",
        "print ('Test Accuracy: {:.2%}'.format(flat_accuracy(logits, label_ids)))"
      ],
      "execution_count": null,
      "outputs": [
        {
          "output_type": "stream",
          "name": "stdout",
          "text": [
            "Predicting labels for 227 test sentences...\n",
            "Test Accuracy: 100.00%\n"
          ]
        }
      ]
    },
    {
      "cell_type": "markdown",
      "metadata": {
        "id": "0-j-nUj_EDkK"
      },
      "source": [
        "#### **Discussion Exercise: Significance of your test accuracy**\n",
        "\n",
        "What do you think about the accuracy of your model? Do you think it would perform just as well on a larger dataset?"
      ]
    },
    {
      "cell_type": "markdown",
      "metadata": {
        "id": "uvNbJi3hJJ-p"
      },
      "source": [
        "# Congratulations on completing your BERT Model!"
      ]
    },
    {
      "cell_type": "markdown",
      "metadata": {
        "id": "dKUNqg3bJO86"
      },
      "source": [
        "## **Wrap-Up**\n",
        "\n",
        "In this notebook, you've:\n",
        "\n",
        " - Learned about the advanced BERT model\n",
        " - Learned to format and filter data for efficent model training and testing.\n",
        "\n",
        "Over these three notebooks, you have delved into the NLP + Finance and have gained subject matter knowledge that will allow you to devise intelligent financial-related models. You can take your newly acquired skills and apply them to other domains and datasets for several other tasks. For example, you may take your skills and utilize sentiment analysis to predict stock prices! The sky's the limit with your new-found skills and expertise!\n"
      ]
    },
    {
      "cell_type": "markdown",
      "metadata": {
        "id": "uKtr5xWpzflg"
      },
      "source": [
        "<img src=\"https://www.sr-sv.com/wp-content/uploads/2019/06/NLP_0000.jpg\" width=\"800\">"
      ]
    }
  ]
}